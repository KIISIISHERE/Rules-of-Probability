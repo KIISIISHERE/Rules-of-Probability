{
  "nbformat": 4,
  "nbformat_minor": 0,
  "metadata": {
    "colab": {
      "provenance": [],
      "authorship_tag": "ABX9TyPbEAsQz2qRQYktXoDUrfPH",
      "include_colab_link": true
    },
    "kernelspec": {
      "name": "python3",
      "display_name": "Python 3"
    },
    "language_info": {
      "name": "python"
    }
  },
  "cells": [
    {
      "cell_type": "markdown",
      "metadata": {
        "id": "view-in-github",
        "colab_type": "text"
      },
      "source": [
        "<a href=\"https://colab.research.google.com/github/KIISIISHERE/Rules-of-Probability/blob/main/Rules_of_Probability.ipynb\" target=\"_parent\"><img src=\"https://colab.research.google.com/assets/colab-badge.svg\" alt=\"Open In Colab\"/></a>"
      ]
    },
    {
      "cell_type": "code",
      "execution_count": null,
      "metadata": {
        "id": "cEDsozkNW2PD",
        "colab": {
          "base_uri": "https://localhost:8080/"
        },
        "outputId": "3652044d-3e49-42ef-e9f2-7e7c805f56a5"
      },
      "outputs": [
        {
          "output_type": "stream",
          "name": "stdout",
          "text": [
            "{'B', 'Y', 'A', 'X', 'C', 'V', 'Z', 'E', 'D'}\n"
          ]
        }
      ],
      "source": [
        "#creating both sets\n",
        "set1={'A','B','C','D','E'}\n",
        "set2={'B','D','V','X','Y','Z'}\n",
        "#union\n",
        "union_set=set1.union(set2)#or set1 | set2\n",
        "print(union_set)"
      ]
    },
    {
      "cell_type": "code",
      "source": [
        "#set intersection\n",
        "intersection_set=set1.intersection(set2)#or set1 & set2\n",
        "print(intersection_set)"
      ],
      "metadata": {
        "colab": {
          "base_uri": "https://localhost:8080/"
        },
        "id": "XfU4Z2ytb5-E",
        "outputId": "42ce5904-9250-4083-c602-4ef40c3479e7"
      },
      "execution_count": null,
      "outputs": [
        {
          "output_type": "stream",
          "name": "stdout",
          "text": [
            "{'B', 'D'}\n"
          ]
        }
      ]
    },
    {
      "cell_type": "code",
      "source": [
        "#set difference\n",
        "difference_set=set1.difference(set2)#or set1 - set2\n",
        "print(difference_set)"
      ],
      "metadata": {
        "colab": {
          "base_uri": "https://localhost:8080/"
        },
        "id": "kwj0VNhdc3SR",
        "outputId": "5e379d70-56c0-4753-eabb-458e29c81d90"
      },
      "execution_count": null,
      "outputs": [
        {
          "output_type": "stream",
          "name": "stdout",
          "text": [
            "{'E', 'C', 'A'}\n"
          ]
        }
      ]
    },
    {
      "cell_type": "code",
      "source": [
        "#set intersection\n",
        "intersection_set=set2.intersection(set1)#or set2 & set1\n",
        "print(intersection_set)"
      ],
      "metadata": {
        "colab": {
          "base_uri": "https://localhost:8080/"
        },
        "id": "Q48SoccvdJS5",
        "outputId": "f9e87521-ef07-4b39-a1c0-9176644eabf1"
      },
      "execution_count": null,
      "outputs": [
        {
          "output_type": "stream",
          "name": "stdout",
          "text": [
            "{'B', 'D'}\n"
          ]
        }
      ]
    },
    {
      "cell_type": "code",
      "source": [
        "#set difference\n",
        "difference_set=set2.difference(set1)#or set2 - set1\n",
        "print(difference_set)"
      ],
      "metadata": {
        "colab": {
          "base_uri": "https://localhost:8080/"
        },
        "id": "jfS7T0CmdU3s",
        "outputId": "c670315a-311b-4e57-ceef-62c9a1106528"
      },
      "execution_count": null,
      "outputs": [
        {
          "output_type": "stream",
          "name": "stdout",
          "text": [
            "{'Z', 'V', 'Y', 'X'}\n"
          ]
        }
      ]
    }
  ]
}