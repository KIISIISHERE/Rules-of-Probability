{
  "nbformat": 4,
  "nbformat_minor": 0,
  "metadata": {
    "colab": {
      "provenance": [],
      "authorship_tag": "ABX9TyOjoRoW7MxyAUhPQZLhNWO5",
      "include_colab_link": true
    },
    "kernelspec": {
      "name": "python3",
      "display_name": "Python 3"
    },
    "language_info": {
      "name": "python"
    }
  },
  "cells": [
    {
      "cell_type": "markdown",
      "metadata": {
        "id": "view-in-github",
        "colab_type": "text"
      },
      "source": [
        "<a href=\"https://colab.research.google.com/github/KIISIISHERE/Rules-of-Probability/blob/main/Rules_of_Probability_II.ipynb\" target=\"_parent\"><img src=\"https://colab.research.google.com/assets/colab-badge.svg\" alt=\"Open In Colab\"/></a>"
      ]
    },
    {
      "cell_type": "code",
      "execution_count": 1,
      "metadata": {
        "colab": {
          "base_uri": "https://localhost:8080/"
        },
        "id": "nda6FWeNeAit",
        "outputId": "4a892a1b-8a57-4144-abd2-89bf9ea221e7"
      },
      "outputs": [
        {
          "output_type": "stream",
          "name": "stdout",
          "text": [
            "P(A): 0.5\n",
            "P(B): 0.6666666666666666\n",
            "P(A ∩ B): 0.3333333333333333\n",
            "P(A ∪ B): 0.8333333333333333\n"
          ]
        }
      ],
      "source": [
        "#Sample space for a six-sided die\n",
        "S = {1, 2, 3, 4, 5, 6}\n",
        "# Define Events\n",
        "A = {2, 4, 6}         #Even Numbers\n",
        "B = {3, 4, 5, 6}      # Numbers greater than 2\n",
        "#Probabilities\n",
        "P_A = len(A) / len(S)\n",
        "P_B = len(B) / len(S)\n",
        "P_A_and_B = len(A & B) / len(S)       # Intersectiond\n",
        "# Addition Rule\n",
        "P_A_or_B = P_A + P_B - P_A_and_B\n",
        "# Print Results\n",
        "print(\"P(A):\", P_A)\n",
        "print(\"P(B):\", P_B)\n",
        "print(\"P(A ∩ B):\", P_A_and_B)\n",
        "print(\"P(A ∪ B):\", P_A_or_B)"
      ]
    }
  ]
}